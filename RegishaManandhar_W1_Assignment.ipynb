{
 "cells": [
  {
   "cell_type": "markdown",
   "metadata": {},
   "source": [
    "<h3><center>Week 1 Assignment </center></h3>\n",
    "<h4><center>Regisha Manandhar</center></h4>\n",
    "<h4><center>Presidential Graduate School</center></h4>\n",
    "<h4><center>PRG 330: Python Programming </center></h4>\n",
    "<h4><center>Prof. Tek Raj Pant </center></h4>\n",
    "<h4><center>October 27, 2024</center></h4>"
   ]
  },
  {
   "cell_type": "markdown",
   "metadata": {},
   "source": [
    "<h2>Print \"Hello World\""
   ]
  },
  {
   "cell_type": "code",
   "execution_count": 1,
   "metadata": {},
   "outputs": [
    {
     "name": "stdout",
     "output_type": "stream",
     "text": [
      "Hello, World!\n"
     ]
    }
   ],
   "source": [
    "hello = \"Hello World\" \n",
    " print(hello)"
   ]
  },
  {
   "cell_type": "markdown",
   "metadata": {},
   "source": [
    "In the program above the variable 'hello' stores string called \"Hello World\" <br>\n",
    "Print is used to show the message in the screen. Here,\"hello\" is being printed whoch stores the string Hello World."
   ]
  },
  {
   "cell_type": "markdown",
   "metadata": {},
   "source": [
    "<h2> Numbers in Python"
   ]
  },
  {
   "cell_type": "code",
   "execution_count": 6,
   "metadata": {},
   "outputs": [
    {
     "name": "stdout",
     "output_type": "stream",
     "text": [
      "3.14\n",
      "4j\n",
      "10\n",
      "<class 'int'>\n"
     ]
    }
   ],
   "source": [
    "age = 10 \n",
    "real_imaginary = 4j\n",
    "pi = 3.14\n",
    "print(pi)\n",
    "print(real_imaginary)\n",
    "print(age)\n",
    "print (type(age))"
   ]
  },
  {
   "cell_type": "markdown",
   "metadata": {},
   "source": [
    "The above program shows the esamples of different types of numbers which can be used in python. <br>\n",
    "Type is a function used in python to know the type of data, wheather it is float, complex, integer, or more."
   ]
  },
  {
   "cell_type": "markdown",
   "metadata": {},
   "source": [
    "<h2> Arithmetic operation"
   ]
  },
  {
   "cell_type": "code",
   "execution_count": 9,
   "metadata": {},
   "outputs": [
    {
     "name": "stdout",
     "output_type": "stream",
     "text": [
      "12\n",
      "-2\n",
      "5\n",
      "0\n",
      "1\n",
      "0\n"
     ]
    }
   ],
   "source": [
    "import math \n",
    "a = 5\n",
    "b = 7\n",
    "sum = a + b \n",
    "subtraction = a - b\n",
    "modular = a % b\n",
    "divide_with_floor = a // b\n",
    "divide = a / b  \n",
    "print(sum)\n",
    "print(subtraction)\n",
    "print(modular)\n",
    "print(divide_with_floor)\n",
    "print(math.ceil(divide)) \n",
    "print(math.floor(divide))  "
   ]
  },
  {
   "cell_type": "markdown",
   "metadata": {},
   "source": [
    "The program above is simple arithemetic operations such as addition, subraction, division, modular and floor operations. <br>\n",
    "import math command importans the math library for performuing the ceil and floor operations.<br>\n",
    "The '%' sing represents modular which os used to find the remainder.<br>\n",
    "The \"//\"  can be used for perfroming the floor opertations.  \n",
    "(math.cell(divide)) uses the ceiling feature of the imported math library.\n",
    "(math.floor(divide)) uses the floor feature of the imported math library."
   ]
  },
  {
   "cell_type": "markdown",
   "metadata": {},
   "source": [
    "<h2> Python String"
   ]
  },
  {
   "cell_type": "code",
   "execution_count": 14,
   "metadata": {},
   "outputs": [
    {
     "name": "stdout",
     "output_type": "stream",
     "text": [
      "My name is Regisha Manandhar\n",
      "There are 17 characters in my name.\n",
      "I live in Kathmandu\n",
      "R\n",
      "r\n",
      "Reg\n",
      "anand\n",
      "ndhar\n"
     ]
    }
   ],
   "source": [
    "name = \"Regisha Manandhar\"\n",
    "city = \"Kathmandu\"\n",
    "print( f\"My name is {name}\") \n",
    "print( f\"There are {(len(name))} characters in my name.\")\n",
    "print( f\"I live in {city}\")\n",
    "print(name[0]) \n",
    "print(name[-1]) \n",
    "print(name[ : 3])\n",
    "print(name[ 9: 14])\n",
    "print(name[ 12:])"
   ]
  },
  {
   "cell_type": "markdown",
   "metadata": {},
   "source": [
    "The above code showcases some of the ways to print strings in Python. Here, I have used the f-string feature for printing sentences since it allows for easy formatting within strings. F-strings use {} as placeholders, allowing us to insert variable values directly into the string. This feature makes it easier to create readable and concise code, especially when constructing sentences with dynamic values. Additionally, I have also demonstrated the indexing feature, represented by [], which is used to access specific characters in a string in Python. <br>\n",
    "The code 'print(name[0])' will only print the first charecter of the string.<br>\n",
    "'print(name[-1])' will print the last charecter of the string. <br>\n",
    "'print(name[ : 3])' will print frint from the first charecter to the specificed index i.e from 1 to 3 <br>\n",
    "'print(name[ 9: 14])' will print the specific charecter from ninth place to fourteenth place. <br>\n",
    "'print(name[ 12:])' will print the string charecter that are frim the tweleveth place.\n"
   ]
  },
  {
   "cell_type": "markdown",
   "metadata": {},
   "source": [
    "<h2>  Boolean"
   ]
  },
  {
   "cell_type": "code",
   "execution_count": 15,
   "metadata": {},
   "outputs": [],
   "source": [
    " passed = True\n",
    " gave_exam = False"
   ]
  },
  {
   "cell_type": "markdown",
   "metadata": {},
   "source": [
    "Boolean can only store two values, it can be either true or false."
   ]
  },
  {
   "cell_type": "markdown",
   "metadata": {},
   "source": [
    "<h2> Conditional Statement"
   ]
  },
  {
   "cell_type": "code",
   "execution_count": 19,
   "metadata": {},
   "outputs": [
    {
     "name": "stdout",
     "output_type": "stream",
     "text": [
      "The number is odd\n"
     ]
    }
   ],
   "source": [
    "num = 5\n",
    "test = num % 2 \n",
    "if test == 0:\n",
    " print(\"The number is even\")\n",
    "else:\n",
    " print(\"The number is odd\")"
   ]
  },
  {
   "cell_type": "markdown",
   "metadata": {},
   "source": [
    "The above program results if the number is odd or even. Modular operation (%) is being used to fing out the remainder of the number that is divided by the number 2. If the remainder is 1 then the nmumber is odd and if the remainder is 0, the number is even."
   ]
  },
  {
   "cell_type": "code",
   "execution_count": 21,
   "metadata": {},
   "outputs": [
    {
     "name": "stdout",
     "output_type": "stream",
     "text": [
      "The number is even\n"
     ]
    }
   ],
   "source": [
    "num = int(input(\"Enter a number\"))\n",
    "test = num % 2 \n",
    "if test == 0:\n",
    " print(\"The number is even\")\n",
    "else:\n",
    " print(\"The number is odd\")"
   ]
  },
  {
   "cell_type": "markdown",
   "metadata": {},
   "source": [
    "This code is same as above, but it asks user to input the number to check if its even or odd.\n"
   ]
  },
  {
   "cell_type": "code",
   "execution_count": 28,
   "metadata": {},
   "outputs": [
    {
     "name": "stdout",
     "output_type": "stream",
     "text": [
      "Python Class\n"
     ]
    }
   ],
   "source": [
    "time = int(input(\"Enter time\"))\n",
    "if time >= 10 and time <12:\n",
    " print(\"Python Class\")\n",
    "elif time >= 12 and time < 14:\n",
    " print(\"DSA class\")\n",
    "elif time >= 14 and time < 16:\n",
    " print(\"English class\")"
   ]
  },
  {
   "cell_type": "markdown",
   "metadata": {},
   "source": [
    "This program aks you to enter the time at first, if you enter the time between 10 to 12 the output will be \"Python Class\". If the time if between 12 to 12 the ouptput will be \" DSA Class\". If the time is between 14 and 16 then the output will be \"English Class\""
   ]
  },
  {
   "cell_type": "code",
   "execution_count": 30,
   "metadata": {},
   "outputs": [
    {
     "name": "stdout",
     "output_type": "stream",
     "text": [
      "Ticket price is 100\n"
     ]
    }
   ],
   "source": [
    "country = input(\"Enter country name\")\n",
    "if country.lower() == \"nepal\" or country.lower() == \"india\":\n",
    " print(\"The ticket price is 50\")\n",
    "else:\n",
    " print(\"Ticket price is 100\") "
   ]
  },
  {
   "cell_type": "markdown",
   "metadata": {},
   "source": [
    "The above program shows the ticket price for Nepal and India and other countrues. If the user enters the country to be nepal or india it furst conversts the string to lowwercase and shows the output as \"The ticket price is 50\" but other countries name is inputed the the output is \"\"The ticket price is 100\"."
   ]
  },
  {
   "cell_type": "markdown",
   "metadata": {},
   "source": [
    "<h2> While Loop"
   ]
  },
  {
   "cell_type": "code",
   "execution_count": 32,
   "metadata": {},
   "outputs": [
    {
     "name": "stdout",
     "output_type": "stream",
     "text": [
      "0\n",
      "Hello World\n",
      "1\n",
      "Hello World\n",
      "2\n",
      "Hello World\n",
      "3\n",
      "Hello World\n",
      "4\n",
      "Hello World\n",
      "5\n",
      "Hello World\n",
      "6\n",
      "Hello World\n",
      "7\n",
      "Hello World\n",
      "8\n",
      "Hello World\n",
      "9\n",
      "Hello World\n"
     ]
    }
   ],
   "source": [
    "c = 0 \n",
    "while c < 10:\n",
    " print(c)\n",
    " print(\"Hello World\")\n",
    " c += 1"
   ]
  },
  {
   "cell_type": "markdown",
   "metadata": {},
   "source": [
    "In the program above we used while loop. In this code the loop will continue untill the condition is met, until the valye of c is less than 10. So, it prints the counter first and string so the process repeats until c is 9."
   ]
  },
  {
   "cell_type": "code",
   "execution_count": 34,
   "metadata": {},
   "outputs": [
    {
     "name": "stdout",
     "output_type": "stream",
     "text": [
      "Hello World\n",
      "Hello World\n",
      "Hello World\n",
      "Hello World\n",
      "Hello World\n",
      "Hello World\n",
      "Hello World\n",
      "Hello World\n",
      "Hello World\n",
      "Hello World\n"
     ]
    }
   ],
   "source": [
    "counter = 10\n",
    "while counter > 0:\n",
    " print(\"Hello World\")\n",
    " counter -=1"
   ]
  },
  {
   "cell_type": "markdown",
   "metadata": {},
   "source": [
    "This programis similar to the one above. In this code, the value of counter is 10 and the code runs until the value is equal to 0. With each loop the value of counter decreases by 1 and the loop runs until the value of counter is 1 so it prints the text \"Hello World\" for 10 times."
   ]
  },
  {
   "cell_type": "markdown",
   "metadata": {},
   "source": [
    "<h2> Sum of First n Even Numbers"
   ]
  },
  {
   "cell_type": "code",
   "execution_count": 36,
   "metadata": {},
   "outputs": [
    {
     "name": "stdout",
     "output_type": "stream",
     "text": [
      "2550\n"
     ]
    }
   ],
   "source": [
    "n = 100\n",
    "counter = 1\n",
    "sum = 0 \n",
    "while counter <= n:\n",
    " if counter % 2 == 0: \n",
    "  sum += counter\n",
    " counter += 1\n",
    "print(sum)"
   ]
  },
  {
   "cell_type": "markdown",
   "metadata": {},
   "source": [
    "This program calculates the sum of all even numbers from 1 to 100. Initially, the value of the counter is 1 and the loop runs until the counter is less than or equal to 100. With each loop, the value of the counter increases by 1. Within the loop, the if statement checks if the counter is divisible by 2 to make sure it is an even number, if the condition is true the even number is added to the sum. After the loop is completed the output is printed."
   ]
  },
  {
   "cell_type": "markdown",
   "metadata": {},
   "source": [
    "<h2> Sum of First n Natural numbers"
   ]
  },
  {
   "cell_type": "code",
   "execution_count": 38,
   "metadata": {},
   "outputs": [
    {
     "name": "stdout",
     "output_type": "stream",
     "text": [
      "5050\n"
     ]
    }
   ],
   "source": [
    "n = 100 \n",
    "sum = 0\n",
    "for i in range(1, n + 1):\n",
    " sum += i\n",
    "print(sum)"
   ]
  },
  {
   "cell_type": "markdown",
   "metadata": {},
   "source": [
    "This program calculates the sum of all integers from 1 to 100. The value of n is set as 100 and the counter (sum) is 0. The for loop repeats through each integer I in the range from 1 to n(100). With each loop, the value of I is added to the sum. After the loop is completed, the program prints the sum of 1 to 100. "
   ]
  },
  {
   "cell_type": "markdown",
   "metadata": {},
   "source": [
    "<h2> Reverse String"
   ]
  },
  {
   "cell_type": "code",
   "execution_count": 40,
   "metadata": {},
   "outputs": [
    {
     "name": "stdout",
     "output_type": "stream",
     "text": [
      "lapeN udnamhtaK\n"
     ]
    }
   ],
   "source": [
    "add = \"Kathmandu Nepal\"\n",
    "reverse = \"\"\n",
    "index = len(add) - 1\n",
    "while index >= 0: \n",
    " reverse += add[index]\n",
    " index -= 1\n",
    "print(reverse)"
   ]
  },
  {
   "cell_type": "markdown",
   "metadata": {},
   "source": [
    "This program stores the string “Kathmandu Nepal” in a variable add and reverses it. There exists an empty string ‘reverse’ that stores the reversed results. It uses a while loop that goes through each character in the original string from the last to the first. With each loop, the current character is added to the string reverse, and the one position is moved backward. Once all the characters are added in reverse order and stored in ‘reverse’ the output is printed."
   ]
  },
  {
   "cell_type": "markdown",
   "metadata": {},
   "source": [
    "<h2> Lists"
   ]
  },
  {
   "cell_type": "code",
   "execution_count": 41,
   "metadata": {},
   "outputs": [
    {
     "name": "stdout",
     "output_type": "stream",
     "text": [
      "[1, 3, 4, 6, 7]\n",
      "[1, 3, 4, 6, 7, 8]\n",
      "The first number of list is 1.\n",
      "There are 6 numbers in the lists.\n",
      "The last number of the list is 8.\n"
     ]
    }
   ],
   "source": [
    "numbers = [1, 3, 4, 6, 7]\n",
    "print(numbers)\n",
    "numbers.append(8) \n",
    "print(numbers)\n",
    "first_number = numbers[0] \n",
    "print(f\"The first number of list is {first_number}.\")\n",
    "total_numbers = len(numbers) \n",
    "print(f\"There are {total_numbers} numbers in the lists.\")\n",
    "last_number = numbers[total_numbers - 1] \n",
    "print(f\"The last number of the list is {last_number}.\")"
   ]
  },
  {
   "cell_type": "markdown",
   "metadata": {},
   "source": [
    "This program shows various operations on a list of numbers [1, 3, 4, 6, 7]. First, the original list of numbers is printed. Then, the feature append is used to add the value at the end of the list so the updated list with 8 at the end is printed. Now, the program finds out the first character of the list stores it first, and prints the first number of the list. Next, it calculates the total number of characters in the list using the len(numbers) and prints the total number of numbers in the list. Finally, the program finds out the last character of the list using its index and prints out the last number of the list. Hence, this program shows how to effectively manipulate and access the characters within the Python list."
   ]
  },
  {
   "cell_type": "code",
   "execution_count": 42,
   "metadata": {},
   "outputs": [
    {
     "name": "stdout",
     "output_type": "stream",
     "text": [
      "[1, 2, 3, 4]\n",
      "[]\n"
     ]
    }
   ],
   "source": [
    "n_1 = [1, 2]\n",
    "n_2 = [3, 4]\n",
    "n_1.extend(n_2) \n",
    "print(n_1)\n",
    "n_1.clear() \n",
    "print(n_1)"
   ]
  },
  {
   "cell_type": "markdown",
   "metadata": {},
   "source": [
    "The program above shows how to extend a list and clear its contents afterward in Python. It uses the extend method to add the elements of n_2 to the end of n_1 which results in n_1 being updated to the list [1,2,3,4]. Then it prints the results. Later, the program calls n_1.clear() to remove all the elements from the list n_1. The list is now empty so it prints []."
   ]
  },
  {
   "cell_type": "code",
   "execution_count": 47,
   "metadata": {},
   "outputs": [
    {
     "name": "stdout",
     "output_type": "stream",
     "text": [
      "['Zayn', 'Harry', 'Liam']\n",
      "Harry exists in names_1.\n"
     ]
    }
   ],
   "source": [
    "names_1  = [\"Zayn\", \"Harry\"]\n",
    "names_2 = names_1\n",
    "names_1.append(\"Liam\") \n",
    "print(names_2)\n",
    "if \"Harry\" in names_1: \n",
    "  print(\"Harry exists in names_1.\") "
   ]
  },
  {
   "cell_type": "markdown",
   "metadata": {},
   "source": [
    "This program demonstrates how variable assignment affects lists in Python. First, a list is created where names_1 contains [“Zayn”, “Harry”]. Then names_1 is assigned to names_2 which means that both the variables are now reference the same list in memory. In the third line, append is used to add the name “Liam” to the list names_1 which makes list names_1 [“Zayn”, “Harry”, “Liam”]. Then the updated list is printed. The program then checks if “Harry” is present in names_1 by using the if sentence. Since the message is indeed printed"
   ]
  },
  {
   "cell_type": "markdown",
   "metadata": {},
   "source": [
    "<h2> List Loops"
   ]
  },
  {
   "cell_type": "code",
   "execution_count": 3,
   "metadata": {},
   "outputs": [
    {
     "name": "stdout",
     "output_type": "stream",
     "text": [
      "28\n"
     ]
    }
   ],
   "source": [
    "numbers = [1, 2, 3, 4, 5, 6, 7]\n",
    "total_numbers = len(numbers)\n",
    "index = 0 \n",
    "sum = 0\n",
    "while index < total_numbers:\n",
    " element =  numbers[index]\n",
    " sum += element\n",
    " index += 1 \n",
    "print(sum)"
   ]
  },
  {
   "cell_type": "markdown",
   "metadata": {},
   "source": [
    "This program calculated the sum of all the numbers present in the list numbers. First, the total number of characters in the list is determined by using len. The value is an index and the sum is 0 at first. Then, a while loop runs until the value of the index is lesser than the value of total numbers. Inside the loop, a number is taken and added to the sum and moves to another number by increasing the value of the index by 1. After all the numbers have been added the loop is completed and the program prints the sum of all the numbers of the loop."
   ]
  },
  {
   "cell_type": "markdown",
   "metadata": {},
   "source": [
    "<h2> Max Value from the list"
   ]
  },
  {
   "cell_type": "code",
   "execution_count": 10,
   "metadata": {},
   "outputs": [
    {
     "name": "stdout",
     "output_type": "stream",
     "text": [
      "The maximum number in the list is 7.\n"
     ]
    }
   ],
   "source": [
    "n = [1, 2, 3, 4, 5, 6, 7]\n",
    "total = len(n)\n",
    "c = 0 \n",
    "max = n[0]\n",
    "while c < total:\n",
    "  value = n[c]\n",
    "  if value > max:\n",
    "    max = value\n",
    "  c +=1\n",
    "print(f\"The maximum number in the list is {max}.\")"
   ]
  },
  {
   "cell_type": "markdown",
   "metadata": {},
   "source": [
    "This program finds out the maximum number in a list of numbers. First, it uses len to find out the total number of numbers in the list. The counter is set at 0 and the max is set at the first element of the list. A while loop runs as long as the counter is less than the total. Inside the loop, the program checks each element in the list. If the current element is greater than the max then, the current element is updated to the max. With each loop, the value of the counter increases by 1. After checking each number, the loop ends and the program prints the maximum number."
   ]
  },
  {
   "cell_type": "markdown",
   "metadata": {},
   "source": [
    "<h2> Filter Value"
   ]
  },
  {
   "cell_type": "code",
   "execution_count": 12,
   "metadata": {},
   "outputs": [
    {
     "name": "stdout",
     "output_type": "stream",
     "text": [
      "['Louis', 'Niall']\n"
     ]
    }
   ],
   "source": [
    "students = [\"Louis\", \"Niall\", \"Liam\"]\n",
    "filtered_students = [student for student in students if student != \"Liam\"]\n",
    "print(filtered_students)"
   ]
  },
  {
   "cell_type": "markdown",
   "metadata": {},
   "source": [
    "This program creates a new list called filtered_students that includes names from the original list students, which contains [\"Louis\", \"Niall\", \"Liam\"]. It uses a list to go through each student in the students list and checks if the student's name is not equal to \"Liam\". If the name is not \"Liam\", it adds that name to the filtered_students list. As a result, the program removes \"Liam\" from the original list, and when it prints filtered_students, the output is [\"Louis\", \"Niall\"]. "
   ]
  },
  {
   "cell_type": "markdown",
   "metadata": {},
   "source": [
    "<h2> Only Printing Even Numbers from the list"
   ]
  },
  {
   "cell_type": "code",
   "execution_count": 13,
   "metadata": {},
   "outputs": [
    {
     "name": "stdout",
     "output_type": "stream",
     "text": [
      "[2, 4, 6, 8, 12, 14]\n"
     ]
    }
   ],
   "source": [
    "numbers = [1, 2, 3, 4, 6, 7, 8, 12, 11, 13, 14]\n",
    "even = [number for number in numbers if number % 2 == 0]\n",
    "print (even)"
   ]
  },
  {
   "cell_type": "markdown",
   "metadata": {},
   "source": [
    "The same case as above, where a list even is created which filteres even number from the original list by using modular method and only prints the even numbers."
   ]
  }
 ],
 "metadata": {
  "kernelspec": {
   "display_name": "base",
   "language": "python",
   "name": "python3"
  },
  "language_info": {
   "codemirror_mode": {
    "name": "ipython",
    "version": 3
   },
   "file_extension": ".py",
   "mimetype": "text/x-python",
   "name": "python",
   "nbconvert_exporter": "python",
   "pygments_lexer": "ipython3",
   "version": "3.12.4"
  }
 },
 "nbformat": 4,
 "nbformat_minor": 2
}
